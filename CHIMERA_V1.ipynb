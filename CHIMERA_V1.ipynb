{
  "nbformat": 4,
  "nbformat_minor": 0,
  "metadata": {
    "colab": {
      "provenance": []
    },
    "kernelspec": {
      "name": "python3",
      "display_name": "Python 3"
    },
    "language_info": {
      "name": "python"
    }
  },
  "cells": [
    {
      "cell_type": "code",
      "source": [
        "pip install sunpy"
      ],
      "metadata": {
        "colab": {
          "base_uri": "https://localhost:8080/"
        },
        "id": "aMdifgamAEpp",
        "outputId": "9894abba-dd40-4480-f47a-6b3296220a41"
      },
      "execution_count": 30,
      "outputs": [
        {
          "output_type": "stream",
          "name": "stdout",
          "text": [
            "Requirement already satisfied: sunpy in /usr/local/lib/python3.10/dist-packages (5.1.1)\n",
            "Requirement already satisfied: astropy!=5.1.0,>=5.0.6 in /usr/local/lib/python3.10/dist-packages (from sunpy) (5.3.4)\n",
            "Requirement already satisfied: numpy>=1.21.0 in /usr/local/lib/python3.10/dist-packages (from sunpy) (1.25.2)\n",
            "Requirement already satisfied: packaging>=19.0 in /usr/local/lib/python3.10/dist-packages (from sunpy) (24.0)\n",
            "Requirement already satisfied: parfive[ftp]>=2.0.0 in /usr/local/lib/python3.10/dist-packages (from sunpy) (2.0.2)\n",
            "Requirement already satisfied: pyerfa>=2.0 in /usr/local/lib/python3.10/dist-packages (from astropy!=5.1.0,>=5.0.6->sunpy) (2.0.1.1)\n",
            "Requirement already satisfied: PyYAML>=3.13 in /usr/local/lib/python3.10/dist-packages (from astropy!=5.1.0,>=5.0.6->sunpy) (6.0.1)\n",
            "Requirement already satisfied: tqdm>=4.27.0 in /usr/local/lib/python3.10/dist-packages (from parfive[ftp]>=2.0.0->sunpy) (4.66.2)\n",
            "Requirement already satisfied: aiohttp in /usr/local/lib/python3.10/dist-packages (from parfive[ftp]>=2.0.0->sunpy) (3.9.3)\n",
            "Requirement already satisfied: aioftp>=0.17.1 in /usr/local/lib/python3.10/dist-packages (from parfive[ftp]>=2.0.0->sunpy) (0.22.3)\n",
            "Requirement already satisfied: aiosignal>=1.1.2 in /usr/local/lib/python3.10/dist-packages (from aiohttp->parfive[ftp]>=2.0.0->sunpy) (1.3.1)\n",
            "Requirement already satisfied: attrs>=17.3.0 in /usr/local/lib/python3.10/dist-packages (from aiohttp->parfive[ftp]>=2.0.0->sunpy) (23.2.0)\n",
            "Requirement already satisfied: frozenlist>=1.1.1 in /usr/local/lib/python3.10/dist-packages (from aiohttp->parfive[ftp]>=2.0.0->sunpy) (1.4.1)\n",
            "Requirement already satisfied: multidict<7.0,>=4.5 in /usr/local/lib/python3.10/dist-packages (from aiohttp->parfive[ftp]>=2.0.0->sunpy) (6.0.5)\n",
            "Requirement already satisfied: yarl<2.0,>=1.0 in /usr/local/lib/python3.10/dist-packages (from aiohttp->parfive[ftp]>=2.0.0->sunpy) (1.9.4)\n",
            "Requirement already satisfied: async-timeout<5.0,>=4.0 in /usr/local/lib/python3.10/dist-packages (from aiohttp->parfive[ftp]>=2.0.0->sunpy) (4.0.3)\n",
            "Requirement already satisfied: idna>=2.0 in /usr/local/lib/python3.10/dist-packages (from yarl<2.0,>=1.0->aiohttp->parfive[ftp]>=2.0.0->sunpy) (3.6)\n"
          ]
        }
      ]
    },
    {
      "cell_type": "code",
      "execution_count": 31,
      "metadata": {
        "id": "sqDeNTSrJ7YA"
      },
      "outputs": [],
      "source": [
        "#import required libraries\n",
        "import astropy\n",
        "from astropy import wcs\n",
        "from astropy.io import fits\n",
        "from astropy.modeling.models import Gaussian2D\n",
        "import astropy.units as u\n",
        "from astropy.utils.data import download_file\n",
        "from astropy.visualization import astropy_mpl_style\n",
        "import cv2\n",
        "import glob\n",
        "import mahotas\n",
        "import matplotlib.pyplot as plt\n",
        "import numpy as np\n",
        "import scipy\n",
        "import scipy.interpolate\n",
        "import sunpy\n",
        "import sunpy.map\n",
        "import sys\n",
        "from scipy.interpolate import interp2d, RectBivariateSpline\n",
        "\n",
        "plt.style.use(astropy_mpl_style)"
      ]
    },
    {
      "cell_type": "code",
      "source": [
        "#load in required fits file. Make sure to use full disk images\n",
        "im171 = glob.glob('171.fts')\n",
        "im193 = glob.glob('193.fts')\n",
        "im211 = glob.glob('211.fts')\n",
        "imhmi = glob.glob('hmi.fts')"
      ],
      "metadata": {
        "id": "npCkEG_xLQEz"
      },
      "execution_count": 32,
      "outputs": []
    },
    {
      "cell_type": "code",
      "source": [
        "#make sure all required files exist\n",
        "if im171 == [] or im193 == [] or im211 == [] or imhmi == []:\n",
        "\tprint(\"Not all required files present\")\n",
        "\tsys.exit()"
      ],
      "metadata": {
        "id": "6EwDwosRLS00"
      },
      "execution_count": 33,
      "outputs": []
    },
    {
      "cell_type": "code",
      "source": [
        "#reads in fits files and scales images to a size of 4096. Ensures correct image resolution before processing.\n",
        "\n",
        "'''Changes: switched interp2d to RectBivariateSpline, changed syntax for np.arrange\n",
        "to be more compatabile with current python version, changed variable name x to \"scaled_array\",\n",
        "added an \"if statement\" at the end to ensure that image resolutions are correct before processing'''\n",
        "\n",
        "'''TO FIX: Invalid 'Blank' keyword in header warning'''\n",
        "\n",
        "scaled_array=np.arange(start = 0, stop = 4096, step = 4)\n",
        "\n",
        "hdu_number=0\n",
        "heda=fits.getheader(im171[0],hdu_number)\n",
        "data= fits.getdata(im171[0], ext=0)/(heda[\"EXPTIME\"])\n",
        "dn=scipy.interpolate.RectBivariateSpline(scaled_array,scaled_array,data)\n",
        "data=dn(np.arange(0,4096),np.arange(0,4096))\n",
        "\n",
        "if len(data) != 4096:\n",
        "    print(\"Incorrect image resolution\")\n"
      ],
      "metadata": {
        "id": "mp__D-fxLmTO"
      },
      "execution_count": 34,
      "outputs": []
    },
    {
      "cell_type": "code",
      "source": [
        "#reads in fits files and scales images to a size of 4096. Ensures correct image resolution before processing.\n",
        "\n",
        "'''TO FIX: Invalid 'Blank' keyword in header warning'''\n",
        "\n",
        "hedb=fits.getheader(im193[0],hdu_number)\n",
        "datb= fits.getdata(im193[0], ext=0)/(hedb[\"EXPTIME\"])\n",
        "dn=scipy.interpolate.RectBivariateSpline(scaled_array,scaled_array,datb)\n",
        "datb=dn(np.arange(0,4096),np.arange(0,4096))\n",
        "\n",
        "if len(datb) != 4096:\n",
        "    print(\"Incorrect image resolution\")\n"
      ],
      "metadata": {
        "id": "woeQladjLn_q"
      },
      "execution_count": 35,
      "outputs": []
    },
    {
      "cell_type": "code",
      "source": [
        "'''TO FIX: Invalid 'Blank' keyword in header warning'''\n",
        "\n",
        "hedc=fits.getheader(im211[0],hdu_number)\n",
        "datc= fits.getdata(im211[0], ext=0)/(hedc[\"EXPTIME\"])\n",
        "dn=scipy.interpolate.RectBivariateSpline(scaled_array,scaled_array,datc)\n",
        "datc=dn(np.arange(0,4096),np.arange(0,4096))\n",
        "\n",
        "if len(datc) != 4096:\n",
        "    print(\"Incorrect image resolution\")\n",
        "\n",
        "print(datc)\n"
      ],
      "metadata": {
        "id": "EAqYkrcXLp9I",
        "colab": {
          "base_uri": "https://localhost:8080/"
        },
        "outputId": "e7813ba4-5457-4527-e5b1-8ad6ed3634f1"
      },
      "execution_count": 36,
      "outputs": [
        {
          "output_type": "stream",
          "name": "stdout",
          "text": [
            "[[ 3.42794344e-19 -9.93202024e-18 -1.28940303e-17 ...  1.50616176e-18\n",
            "   1.50616176e-18  1.50616176e-18]\n",
            " [ 6.10773115e-18 -9.98323479e-02 -1.14094112e-01 ... -1.70009813e-02\n",
            "  -1.70009813e-02 -1.70009813e-02]\n",
            " [ 8.81061434e-18 -1.50645453e-01 -1.72166232e-01 ... -1.94296929e-02\n",
            "  -1.94296929e-02 -1.94296929e-02]\n",
            " ...\n",
            " [ 3.53679056e-18 -4.80522035e-02 -5.76100609e-02 ...  2.80098706e-01\n",
            "   2.80098706e-01  2.80098706e-01]\n",
            " [ 3.53679056e-18 -4.80522035e-02 -5.76100609e-02 ...  2.80098706e-01\n",
            "   2.80098706e-01  2.80098706e-01]\n",
            " [ 3.53679056e-18 -4.80522035e-02 -5.76100609e-02 ...  2.80098706e-01\n",
            "   2.80098706e-01  2.80098706e-01]]\n"
          ]
        }
      ]
    },
    {
      "cell_type": "code",
      "source": [
        "'''Changes: to get rid of indexing error, copied scaling from data, datb, datc so that cell 189 runs correctly (before the data was out of the range of the image resolution which was 1024 instead of 4096)\n",
        "Exposure time for hmi is zero, didn't scale by exposure time'''\n",
        "\n",
        "hedm=fits.getheader(imhmi[0],hdu_number)\n",
        "datm= fits.getdata(imhmi[0], ext=0)\n",
        "dn=scipy.interpolate.RectBivariateSpline(scaled_array,scaled_array,datm)\n",
        "datm=dn(np.arange(0,4096),np.arange(0,4096))\n",
        "\n",
        "if len(datm) != 4096:\n",
        "    print(\"Incorrect image resolution\")\n",
        "\n",
        "print(datm)\n"
      ],
      "metadata": {
        "id": "vifW2C7HLr2u",
        "colab": {
          "base_uri": "https://localhost:8080/"
        },
        "outputId": "4b998d95-4a45-441d-e9af-c754235949d3"
      },
      "execution_count": 63,
      "outputs": [
        {
          "output_type": "stream",
          "name": "stderr",
          "text": [
            "WARNING: VerifyWarning: Invalid 'BLANK' keyword in header.  The 'BLANK' keyword is only applicable to integer data, and will be ignored in this HDU. [astropy.io.fits.hdu.image]\n",
            "WARNING:astropy:VerifyWarning: Invalid 'BLANK' keyword in header.  The 'BLANK' keyword is only applicable to integer data, and will be ignored in this HDU.\n"
          ]
        },
        {
          "output_type": "stream",
          "name": "stdout",
          "text": [
            "[[-2.14748368e+08 -2.14748368e+08 -2.14748368e+08 ... -2.14748368e+08\n",
            "  -2.14748368e+08 -2.14748368e+08]\n",
            " [-2.14748368e+08 -2.14748368e+08 -2.14748368e+08 ... -2.14748368e+08\n",
            "  -2.14748368e+08 -2.14748368e+08]\n",
            " [-2.14748368e+08 -2.14748368e+08 -2.14748368e+08 ... -2.14748368e+08\n",
            "  -2.14748368e+08 -2.14748368e+08]\n",
            " ...\n",
            " [-2.14748368e+08 -2.14748368e+08 -2.14748368e+08 ... -2.14748368e+08\n",
            "  -2.14748368e+08 -2.14748368e+08]\n",
            " [-2.14748368e+08 -2.14748368e+08 -2.14748368e+08 ... -2.14748368e+08\n",
            "  -2.14748368e+08 -2.14748368e+08]\n",
            " [-2.14748368e+08 -2.14748368e+08 -2.14748368e+08 ... -2.14748368e+08\n",
            "  -2.14748368e+08 -2.14748368e+08]]\n"
          ]
        }
      ]
    },
    {
      "cell_type": "code",
      "source": [
        "#rotates array if 'crota1' is greawter than 90\n",
        "if hedm['crota1'] > 90:\n",
        "\tdatm=np.rot90(np.rot90(datm))"
      ],
      "metadata": {
        "id": "z4JBQBiULtrG"
      },
      "execution_count": 64,
      "outputs": []
    },
    {
      "cell_type": "code",
      "source": [
        "#defines the shape (length) of the array as \"s\" and the solar radius as \"rs\"\n",
        "s=np.shape(data)\n",
        "rs=heda['rsun']"
      ],
      "metadata": {
        "id": "0ZPZxHgrLwfY"
      },
      "execution_count": 39,
      "outputs": []
    },
    {
      "cell_type": "code",
      "source": [
        "#ensures \"cype1\" and \"ctype2\" are correctly defined as \"solar_x\" and \"solar_y\" respectively\n",
        "if  hedb[\"ctype1\"] != 'solar_x ':\n",
        "\thedb[\"ctype1\"]='solar_x '\n",
        "\thedb[\"ctype2\"]='solar_y '"
      ],
      "metadata": {
        "id": "qS50C1BZLyMI"
      },
      "execution_count": 40,
      "outputs": []
    },
    {
      "cell_type": "code",
      "source": [
        "#rescales \"cdelt1\", \"cdelt2\", \"cpix1\", and \"cpix2\" if \"cdelt1\" > 1\n",
        "if heda['cdelt1'] > 1:\n",
        "\theda['cdelt1'],heda['cdelt2'],heda['crpix1'],heda['crpix2']=heda['cdelt1']/4.,heda['cdelt2']/4.,heda['crpix1']*4.0,heda['crpix2']*4.0\n",
        "\thedb['cdelt1'],hedb['cdelt2'],hedb['crpix1'],hedb['crpix2']=hedb['cdelt1']/4.,hedb['cdelt2']/4.,hedb['crpix1']*4.0,hedb['crpix2']*4.0\n",
        "\thedc['cdelt1'],hedc['cdelt2'],hedc['crpix1'],hedc['crpix2']=hedc['cdelt1']/4.,hedc['cdelt2']/4.,hedc['crpix1']*4.0,hedc['crpix2']*4.0"
      ],
      "metadata": {
        "id": "Kz4S85e4L1_S"
      },
      "execution_count": 41,
      "outputs": []
    },
    {
      "cell_type": "code",
      "source": [
        "#converts pixel values to arcseconds\n",
        "dattoarc=heda['cdelt1']\n",
        "conver=(s[0]/2)*dattoarc/hedm['cdelt1']-(s[1]/2)\n",
        "convermul=dattoarc/hedm['cdelt1']"
      ],
      "metadata": {
        "id": "acXRp68LL33M"
      },
      "execution_count": 42,
      "outputs": []
    },
    {
      "cell_type": "code",
      "source": [
        "#Changes to Heliographic Stonyhurst coordinate system\n",
        "\n",
        "'''TO FIX: Warnings for illegal keyword names'''\n",
        "\n",
        "aia=sunpy.map.Map(im171)\n",
        "adj=4096./aia.dimensions[0].value\n",
        "x, y = (np.meshgrid(*[np.arange(adj*v.value) for v in aia.dimensions]) * u.pixel)/adj\n",
        "hpc = aia.pixel_to_world(x, y)\n",
        "hg=hpc.transform_to(sunpy.coordinates.frames.HeliographicStonyhurst)\n",
        "\n",
        "csys=wcs.WCS(hedb)\n"
      ],
      "metadata": {
        "id": "K1sknmYxL6hf",
        "colab": {
          "base_uri": "https://localhost:8080/"
        },
        "outputId": "8fdcf6a0-99cf-4bcc-a332-6b457fe964d9"
      },
      "execution_count": 43,
      "outputs": [
        {
          "output_type": "stream",
          "name": "stderr",
          "text": [
            "WARNING: VerifyWarning: Verification reported errors: [astropy.io.fits.verify]\n",
            "WARNING:astropy:VerifyWarning: Verification reported errors:\n",
            "WARNING: VerifyWarning: Card 35: [astropy.io.fits.verify]\n",
            "WARNING:astropy:VerifyWarning: Card 35:\n",
            "WARNING: VerifyWarning:     Unfixable error: Illegal keyword name 'DATE_D$O' [astropy.io.fits.verify]\n",
            "WARNING:astropy:VerifyWarning:     Unfixable error: Illegal keyword name 'DATE_D$O'\n",
            "WARNING: VerifyWarning: Note: astropy.io.fits uses zero-based indexing.\n",
            " [astropy.io.fits.verify]\n",
            "WARNING:astropy:VerifyWarning: Note: astropy.io.fits uses zero-based indexing.\n",
            "\n",
            "WARNING: VerifyWarning: Verification reported errors: [astropy.io.fits.verify]\n",
            "WARNING:astropy:VerifyWarning: Verification reported errors:\n",
            "WARNING: VerifyWarning: Unfixable error: Illegal keyword name 'DATE_D$O' [astropy.io.fits.verify]\n",
            "WARNING:astropy:VerifyWarning: Unfixable error: Illegal keyword name 'DATE_D$O'\n",
            "WARNING: VerifyWarning: Note: astropy.io.fits uses zero-based indexing.\n",
            " [astropy.io.fits.verify]\n",
            "WARNING:astropy:VerifyWarning: Note: astropy.io.fits uses zero-based indexing.\n",
            "\n",
            "WARNING: FITSFixedWarning: CROTACN1= 0.00000000000 / Rotation x center \n",
            "keyword looks very much like CROTAn but isn't. [astropy.wcs.wcs]\n",
            "WARNING:astropy:FITSFixedWarning: CROTACN1= 0.00000000000 / Rotation x center \n",
            "keyword looks very much like CROTAn but isn't.\n",
            "WARNING: FITSFixedWarning: CROTACN2= 0.00000000000 / Rotation y center \n",
            "keyword looks very much like CROTAn but isn't. [astropy.wcs.wcs]\n",
            "WARNING:astropy:FITSFixedWarning: CROTACN2= 0.00000000000 / Rotation y center \n",
            "keyword looks very much like CROTAn but isn't.\n",
            "WARNING: FITSFixedWarning: 'datfix' made the change 'Invalid DATE-OBS format '31-Jan-2024 00:24:40.843''. [astropy.wcs.wcs]\n",
            "WARNING:astropy:FITSFixedWarning: 'datfix' made the change 'Invalid DATE-OBS format '31-Jan-2024 00:24:40.843''.\n"
          ]
        }
      ]
    },
    {
      "cell_type": "code",
      "source": [
        "#setting up arrays to be used in later processing\n",
        "ident=1\n",
        "iarr=np.zeros((s[0],s[1]),dtype=np.byte)\n",
        "offarr,slate=np.array(iarr),np.array(iarr)\n",
        "bmcool=np.zeros((s[0],s[1]),dtype=np.float32)\n",
        "cand,bmmix,bmhot=np.array(bmcool),np.array(bmcool),np.array(bmcool)\n",
        "circ=np.zeros((s[0],s[1]),dtype=int)"
      ],
      "metadata": {
        "id": "QUE4rIA7L-UZ"
      },
      "execution_count": 44,
      "outputs": []
    },
    {
      "cell_type": "code",
      "source": [
        "#creation of a 2d gaussian for magnetic cut offs\n",
        "\n",
        "r = (s[1]/2.0)-450\n",
        "xgrid,ygrid=np.meshgrid(np.arange(s[0]),np.arange(s[1]))\n",
        "center=[int(s[1]/2.0),int(s[1]/2.0)]\n",
        "w=np.where((xgrid-center[0])**2+(ygrid-center[1])**2 > r**2)\n",
        "y,x=np.mgrid[0:4096,0:4096]\n",
        "garr=Gaussian2D(1,s[0]/2,s[1]/2,2000/2.3548,2000/2.3548)(x,y)\n",
        "garr[w]=1.0"
      ],
      "metadata": {
        "id": "elqZFWcnMBrZ"
      },
      "execution_count": 45,
      "outputs": []
    },
    {
      "cell_type": "code",
      "source": [
        "#creates sub-arrays of props to isolate column of index 0 and column of index 1\n",
        "props=np.zeros((26,30),dtype='<U16')\n",
        "props[:,0]='ID','XCEN','YCEN','CENTROID','X_EB','Y_EB','X_WB','Y_WB','X_NB','Y_NB','X_SB','Y_SB','WIDTH','WIDTH°','AREA','AREA%','<B>','<B+>','<B->','BMAX','BMIN','TOT_B+','TOT_B-','<PHI>','<PHI+>','<PHI->'\n",
        "props[:,1]='num','\"','\"','H°','\"','\"','\"','\"','\"','\"','\"','\"','H°','°','Mm^2','%','G','G','G','G','G','G','G','Mx','Mx','Mx'"
      ],
      "metadata": {
        "id": "06jPD4pRMGdw"
      },
      "execution_count": 46,
      "outputs": []
    },
    {
      "cell_type": "code",
      "source": [
        "#removes negative data values\n",
        "data[np.where(data <= 0)]=0\n",
        "datb[np.where(datb <= 0)]=0\n",
        "datc[np.where(datc <= 0)]=0"
      ],
      "metadata": {
        "id": "XpbOolCwMVMF"
      },
      "execution_count": 47,
      "outputs": []
    },
    {
      "cell_type": "code",
      "source": [
        "#ignores division errors in the following logarithms and sets conditions for t0, t1, and t2\n",
        "with np.errstate(divide = 'ignore'):\n",
        "\tt0=np.log10(datc)\n",
        "\tt1=np.log10(datb)\n",
        "\tt2=np.log10(data)\n",
        "t0[np.where(t0 < 0.8)] = 0.8\n",
        "t0[np.where(t0 > 2.7)] = 2.7\n",
        "t1[np.where(t1 < 1.4)] = 1.4\n",
        "t1[np.where(t1 > 3.0)] = 3.0\n",
        "t2[np.where(t2 < 1.2)] = 1.2\n",
        "t2[np.where(t2 > 3.9)] = 3.9"
      ],
      "metadata": {
        "id": "L3c366LOMQcW"
      },
      "execution_count": 48,
      "outputs": []
    },
    {
      "cell_type": "code",
      "source": [
        "#makes a multi-wavelength image for contours\n",
        "t0=np.array(((t0-0.8)/(2.7-0.8))*255,dtype=np.float32)\n",
        "t1=np.array(((t1-1.4)/(3.0-1.4))*255,dtype=np.float32)\n",
        "t2=np.array(((t2-1.2)/(3.9-1.2))*255,dtype=np.float32)"
      ],
      "metadata": {
        "id": "3oO_rrbgMZ4x"
      },
      "execution_count": 49,
      "outputs": []
    },
    {
      "cell_type": "code",
      "source": [
        "#ignores division and invalid erros in the following conditions to create 3 segmented bitmasks\n",
        "with np.errstate(divide = 'ignore',invalid='ignore'):\n",
        "\tbmmix[np.where(t2/t0 >= ((np.mean(data)*0.6357)/(np.mean(datc))))]=1\n",
        "\tbmhot[np.where(t0+t1 < (0.7*(np.mean(datb)+np.mean(datc))))]=1\n",
        "\tbmcool[np.where(t2/t1 >= ((np.mean(data)*1.5102)/(np.mean(datb))))]=1"
      ],
      "metadata": {
        "id": "Q9jr_gA-Mc6J"
      },
      "execution_count": 50,
      "outputs": []
    },
    {
      "cell_type": "code",
      "source": [
        "#conjunction of 3 segmentations\n",
        "cand=bmcool*bmmix*bmhot"
      ],
      "metadata": {
        "id": "U_avvniSMe7a"
      },
      "execution_count": 51,
      "outputs": []
    },
    {
      "cell_type": "code",
      "source": [
        "#plot tricolour image with lon/lat contours\n",
        "'''TO FIX: there is no code written for this section'''\n"
      ],
      "metadata": {
        "colab": {
          "base_uri": "https://localhost:8080/",
          "height": 35
        },
        "id": "-cady694uJY9",
        "outputId": "bbd1fe49-75f1-4794-d970-415127af8f2b"
      },
      "execution_count": 52,
      "outputs": [
        {
          "output_type": "execute_result",
          "data": {
            "text/plain": [
              "'TO FIX: there is no code written for this section'"
            ],
            "application/vnd.google.colaboratory.intrinsic+json": {
              "type": "string"
            }
          },
          "metadata": {},
          "execution_count": 52
        }
      ]
    },
    {
      "cell_type": "code",
      "source": [
        "#removes off detector mis-identifications\n",
        "r=(s[1]/2.0)-100\n",
        "w=np.where((xgrid-center[0])**2+(ygrid-center[1])**2 <= r**2)\n",
        "circ[w]=1.0\n",
        "cand=cand*circ"
      ],
      "metadata": {
        "id": "rpZ36REKMggU"
      },
      "execution_count": 53,
      "outputs": []
    },
    {
      "cell_type": "code",
      "source": [
        "#seperates on-disk and off-limb coronal holes\n",
        "circ[:]=0\n",
        "r=(rs/dattoarc)-10\n",
        "w=np.where((xgrid-center[0])**2+(ygrid-center[1])**2 <= r**2)\n",
        "circ[w]=1.0\n",
        "r=(rs/dattoarc)+40\n",
        "w=np.where((xgrid-center[0])**2+(ygrid-center[1])**2 >= r**2)\n",
        "circ[w]=1.0\n",
        "cand=cand*circ"
      ],
      "metadata": {
        "id": "q8AzT5xXMgh-"
      },
      "execution_count": 54,
      "outputs": []
    },
    {
      "cell_type": "code",
      "source": [
        "#open file for property storage\n",
        "'''TO FIX: No code for this section'''"
      ],
      "metadata": {
        "colab": {
          "base_uri": "https://localhost:8080/",
          "height": 35
        },
        "id": "iVgAh6Y-ut80",
        "outputId": "df72cbe1-0887-443c-f826-e7cd914436e0"
      },
      "execution_count": 55,
      "outputs": [
        {
          "output_type": "execute_result",
          "data": {
            "text/plain": [
              "'TO FIX: No code for this section'"
            ],
            "application/vnd.google.colaboratory.intrinsic+json": {
              "type": "string"
            }
          },
          "metadata": {},
          "execution_count": 55
        }
      ]
    },
    {
      "cell_type": "code",
      "source": [
        "#contours the identified datapoints\n",
        "cand=np.array(cand,dtype=np.uint8)\n",
        "cont,heir=cv2.findContours(cand,cv2.RETR_TREE,cv2.CHAIN_APPROX_SIMPLE)"
      ],
      "metadata": {
        "id": "G911hr4d01R0"
      },
      "execution_count": 57,
      "outputs": []
    },
    {
      "cell_type": "code",
      "source": [
        "#sorts contours by size\n",
        "sizes=[]\n",
        "for i in range(len(cont)):\n",
        "\tsizes=np.append(sizes,len(cont[i]))\n",
        "reord=sizes.ravel().argsort()[::-1]\n",
        "tmp=list(cont)\n",
        "for i in range(len(cont)):\n",
        "\ttmp[i]=cont[reord[i]]\n",
        "cont=list(tmp)"
      ],
      "metadata": {
        "id": "lQI5QT8mMnQ9"
      },
      "execution_count": 58,
      "outputs": []
    },
    {
      "cell_type": "code",
      "source": [
        "#=====cycles through contours=========\n",
        "\n",
        "for i in range(len(cont)):\n",
        "\n",
        "\tx=np.append(x,len(cont[i]))\n",
        "\n",
        "#=====only takes values of minimum surface length and calculates area======\n",
        "\n",
        "\tif len(cont[i]) <= 100:\n",
        "\t\tcontinue\n",
        "\tarea=0.5*np.abs(np.dot(cont[i][:,0,0],np.roll(cont[i][:,0,1],1))-np.dot(cont[i][:,0,1],np.roll(cont[i][:,0,0],1)))\n",
        "\tarcar=(area*(dattoarc**2))\n",
        "\tif arcar > 1000:\n",
        "\n",
        "#=====finds centroid=======\n",
        "\n",
        "\t\tchpts=len(cont[i])\n",
        "\t\tcent=[np.mean(cont[i][:,0,0]),np.mean(cont[i][:,0,1])]\n",
        "\n",
        "#===remove quiet sun regions encompassed by coronal holes======\n",
        "\n",
        "\t\tif (cand[np.max(cont[i][:,0,0])+1,cont[i][np.where(cont[i][:,0,0] == np.max(cont[i][:,0,0]))[0][0],0,1]] > 0) and (iarr[np.max(cont[i][:,0,0])+1,cont[i][np.where(cont[i][:,0,0] == np.max(cont[i][:,0,0]))[0][0],0,1]] > 0):\n",
        "\t\t\tmahotas.polygon.fill_polygon(np.array(list(zip(cont[i][:,0,1],cont[i][:,0,0]))),slate)\n",
        "\t\t\tiarr[np.where(slate == 1)]=0\n",
        "\t\t\tslate[:]=0\n",
        "\n",
        "\t\telse:\n",
        "\n",
        "#====create a simple centre point======\n",
        "\n",
        "\t\t\tarccent=csys.all_pix2world(cent[0],cent[1],0)\n",
        "\n",
        "#====classifies off limb CH regions========\n",
        "\n",
        "\t\t\tif (((arccent[0]**2)+(arccent[1]**2)) > (rs**2)) or (np.sum(np.array(csys.all_pix2world(cont[i][0,0,0],cont[i][0,0,1],0))**2) > (rs**2)):\n",
        "\t\t\t\tmahotas.polygon.fill_polygon(np.array(list(zip(cont[i][:,0,1],cont[i][:,0,0]))),offarr)\n",
        "\t\t\telse:\n",
        "\n",
        "#=====classifies on disk coronal holes=======\n",
        "\n",
        "\t\t\t\tmahotas.polygon.fill_polygon(np.array(list(zip(cont[i][:,0,1],cont[i][:,0,0]))),slate)\n",
        "\t\t\t\tposlin=np.where(slate == 1)\n",
        "\t\t\t\tslate[:]=0\n",
        "\t\t\t\tprint(poslin)\n",
        "\n",
        "#====create an array for magnetic polarity========\n",
        "\n",
        "\t\t\t\tpos=np.zeros((len(poslin[0]),2),dtype=np.uint)\n",
        "\t\t\t\tpos[:,0]=np.array((poslin[0]-(s[0]/2))*convermul+(s[1]/2),dtype=np.uint)\n",
        "\t\t\t\tpos[:,1]=np.array((poslin[1]-(s[0]/2))*convermul+(s[1]/2),dtype=np.uint)\n",
        "\t\t\t\tnpix=list(np.histogram(datm[pos[:,0],pos[:,1]],bins=np.arange(np.round(np.min(datm[pos[:,0],pos[:,1]]))-0.5,np.round(np.max(datm[pos[:,0],pos[:,1]]))+0.6,1)))\n",
        "\t\t\t\tnpix[0][np.where(npix[0]==0)]=1\n",
        "\t\t\t\tnpix[1]=npix[1][:-1]+0.5\n",
        "\n",
        "\t\t\t\twh1=np.where(npix[1] > 0)\n",
        "\t\t\t\twh2=np.where(npix[1] < 0)\n",
        "\n",
        "#=====magnetic cut offs dependant on area=========\n",
        "\n",
        "\t\t\t\tif np.absolute((np.sum(npix[0][wh1])-np.sum(npix[0][wh2]))/np.sqrt(np.sum(npix[0]))) <= 10 and arcar < 9000:\n",
        "\t\t\t\t\tcontinue\n",
        "\t\t\t\tif np.absolute(np.mean(datm[pos[:,0],pos[:,1]])) < garr[int(cent[0]),int(cent[1])] and arcar < 40000:\n",
        "\t\t\t\t\tcontinue\n",
        "\t\t\t\tiarr[poslin]=ident\n",
        "\n",
        "#====create an accurate center point=======\n",
        "\n",
        "\t\t\t\typos=np.sum((poslin[0])*np.absolute(hg.lat[poslin]))/np.sum(np.absolute(hg.lat[poslin]))\n",
        "\t\t\t\txpos=np.sum((poslin[1])*np.absolute(hg.lon[poslin]))/np.sum(np.absolute(hg.lon[poslin]))\n",
        "\n",
        "\t\t\t\tarccent=csys.all_pix2world(xpos,ypos,0)\n",
        "\n",
        "#======calculate average angle coronal hole is subjected to======\n",
        "\n",
        "\t\t\t\tdist=np.sqrt((arccent[0]**2)+(arccent[1]**2))\n",
        "\t\t\t\tang=np.arcsin(dist/rs)\n",
        "\n",
        "#=====calculate area of CH with minimal projection effects======\n",
        "\n",
        "\t\t\t\ttrupixar=abs(area/np.cos(ang))\n",
        "\t\t\t\ttruarcar=trupixar*(dattoarc**2)\n",
        "\t\t\t\ttrummar=truarcar*((6.96e+08/rs)**2)\n",
        "\n",
        "\n",
        "#====find CH extent in lattitude and longitude========\n",
        "\n",
        "\t\t\t\tmaxxlat=hg.lat[cont[i][np.where(cont[i][:,0,0] == np.max(cont[i][:,0,0]))[0][0],0,1],np.max(cont[i][:,0,0])]\n",
        "\t\t\t\tmaxxlon=hg.lon[cont[i][np.where(cont[i][:,0,0] == np.max(cont[i][:,0,0]))[0][0],0,1],np.max(cont[i][:,0,0])]\n",
        "\t\t\t\tmaxylat=hg.lat[np.max(cont[i][:,0,1]),cont[i][np.where(cont[i][:,0,1] == np.max(cont[i][:,0,1]))[0][0],0,0]]\n",
        "\t\t\t\tmaxylon=hg.lon[np.max(cont[i][:,0,1]),cont[i][np.where(cont[i][:,0,1] == np.max(cont[i][:,0,1]))[0][0],0,0]]\n",
        "\t\t\t\tminxlat=hg.lat[cont[i][np.where(cont[i][:,0,0] == np.min(cont[i][:,0,0]))[0][0],0,1],np.min(cont[i][:,0,0])]\n",
        "\t\t\t\tminxlon=hg.lon[cont[i][np.where(cont[i][:,0,0] == np.min(cont[i][:,0,0]))[0][0],0,1],np.min(cont[i][:,0,0])]\n",
        "\t\t\t\tminylat=hg.lat[np.min(cont[i][:,0,1]),cont[i][np.where(cont[i][:,0,1] == np.min(cont[i][:,0,1]))[0][0],0,0]]\n",
        "\t\t\t\tminylon=hg.lon[np.min(cont[i][:,0,1]),cont[i][np.where(cont[i][:,0,1] == np.min(cont[i][:,0,1]))[0][0],0,0]]\n",
        "\n",
        "#=====CH centroid in lat/lon=======\n",
        "\n",
        "\t\t\t\tcentlat=hg.lat[int(ypos),int(xpos)]\n",
        "\t\t\t\tcentlon=hg.lon[int(ypos),int(xpos)]\n",
        "\n",
        "#====caluclate the mean magnetic field=====\n",
        "\n",
        "\t\t\t\tmB=np.mean(datm[pos[:,0],pos[:,1]])\n",
        "\t\t\t\tmBpos=np.sum(npix[0][wh1]*npix[1][wh1])/np.sum(npix[0][wh1])\n",
        "\t\t\t\tmBneg=np.sum(npix[0][wh2]*npix[1][wh2])/np.sum(npix[0][wh2])\n",
        "\n",
        "#=====finds coordinates of CH boundaries=======\n",
        "\n",
        "\t\t\t\tYwb,Xwb=csys.all_pix2world(cont[i][np.where(cont[i][:,0,0] == np.max(cont[i][:,0,0]))[0][0],0,1],np.max(cont[i][:,0,0]),0)\n",
        "\t\t\t\tYeb,Xeb=csys.all_pix2world(cont[i][np.where(cont[i][:,0,0] == np.min(cont[i][:,0,0]))[0][0],0,1],np.min(cont[i][:,0,0]),0)\n",
        "\t\t\t\tYnb,Xnb=csys.all_pix2world(np.max(cont[i][:,0,1]),cont[i][np.where(cont[i][:,0,1] == np.max(cont[i][:,0,1]))[0][0],0,0],0)\n",
        "\t\t\t\tYsb,Xsb=csys.all_pix2world(np.min(cont[i][:,0,1]),cont[i][np.where(cont[i][:,0,1] == np.min(cont[i][:,0,1]))[0][0],0,0],0)\n",
        "\n",
        "\t\t\t\twidth=round(maxxlon.value)-round(minxlon.value)\n",
        "\n",
        "\t\t\t\tif minxlon.value >= 0.0 : eastl='W'+str(int(np.round(minxlon.value)))\n",
        "\t\t\t\telse : eastl='E'+str(np.absolute(int(np.round(minxlon.value))))\n",
        "\t\t\t\tif maxxlon.value >= 0.0 : westl='W'+str(int(np.round(maxxlon.value)))\n",
        "\t\t\t\telse : westl='E'+str(np.absolute(int(np.round(maxxlon.value))))\n",
        "\n",
        "\t\t\t\tif centlat >= 0.0 : centlat='N'+str(int(np.round(centlat.value)))\n",
        "\t\t\t\telse : centlat='S'+str(np.absolute(int(np.round(centlat.value))))\n",
        "\t\t\t\tif centlon >= 0.0 : centlon='W'+str(int(np.round(centlon.value)))\n",
        "\t\t\t\telse : centlon='E'+str(np.absolute(int(np.round(centlon.value))))\n",
        "\n",
        "#====insertions of CH properties into property array=====\n",
        "\n",
        "\t\t\t\tprops[0,ident+1]=str(ident)\n",
        "\t\t\t\tprops[1,ident+1]=str(np.round(arccent[0]))\n",
        "\t\t\t\tprops[2,ident+1]=str(np.round(arccent[1]))\n",
        "\t\t\t\tprops[3,ident+1]=str(centlon+centlat)\n",
        "\t\t\t\tprops[4,ident+1]=str(np.round(Xeb))\n",
        "\t\t\t\tprops[5,ident+1]=str(np.round(Yeb))\n",
        "\t\t\t\tprops[6,ident+1]=str(np.round(Xwb))\n",
        "\t\t\t\tprops[7,ident+1]=str(np.round(Ywb))\n",
        "\t\t\t\tprops[8,ident+1]=str(np.round(Xnb))\n",
        "\t\t\t\tprops[9,ident+1]=str(np.round(Ynb))\n",
        "\t\t\t\tprops[10,ident+1]=str(np.round(Xsb))\n",
        "\t\t\t\tprops[11,ident+1]=str(np.round(Ysb))\n",
        "\t\t\t\tprops[12,ident+1]=str(eastl+'-'+westl)\n",
        "\t\t\t\tprops[13,ident+1]=str(width)\n",
        "\t\t\t\tprops[14,ident+1]='{:.1e}'.format(trummar/1e+12)\n",
        "\t\t\t\tprops[15,ident+1]=str(np.round((arcar*100/(np.pi*(rs**2))),1))\n",
        "\t\t\t\tprops[16,ident+1]=str(np.round(mB,1))\n",
        "\t\t\t\tprops[17,ident+1]=str(np.round(mBpos,1))\n",
        "\t\t\t\tprops[18,ident+1]=str(np.round(mBneg,1))\n",
        "\t\t\t\tprops[19,ident+1]=str(np.round(np.max(npix[1]),1))\n",
        "\t\t\t\tprops[20,ident+1]=str(np.round(np.min(npix[1]),1))\n",
        "\t\t\t\ttbpos= np.sum(datm[pos[:,0],pos[:,1]][np.where(datm[pos[:,0],pos[:,1]] > 0)])\n",
        "\t\t\t\tprops[21,ident+1]='{:.1e}'.format(tbpos)\n",
        "\t\t\t\ttbneg= np.sum(datm[pos[:,0],pos[:,1]][np.where(datm[pos[:,0],pos[:,1]] < 0)])\n",
        "\t\t\t\tprops[22,ident+1]='{:.1e}'.format(tbneg)\n",
        "\t\t\t\tprops[23,ident+1]='{:.1e}'.format(mB*trummar*1e+16)\n",
        "\t\t\t\tprops[24,ident+1]='{:.1e}'.format(mBpos*trummar*1e+16)\n",
        "\t\t\t\tprops[25,ident+1]='{:.1e}'.format(mBneg*trummar*1e+16)\n",
        "\n",
        "#=====sets up code for next possible coronal hole=====\n",
        "\n",
        "\t\t\t\tident=ident+1\n",
        "\n",
        "#=====sets ident back to max value of iarr======\n",
        "\n",
        "ident=ident-1\n",
        "np.savetxt('ch_summary.txt', props, fmt = '%s')\n",
        "\n",
        "#====create image in output folder=======\n",
        "#from scipy.misc import bytescale\n",
        "\n",
        "from skimage.util import img_as_ubyte\n",
        "\n",
        "def rescale01(arr, cmin=None, cmax=None, a=0, b=1):\n",
        "    if cmin or cmax:\n",
        "        arr = np.clip(arr, cmin, cmax)\n",
        "    return (b-a) * ((arr - np.min(arr)) / (np.max(arr) - np.min(arr))) + a\n",
        "\n",
        "\n",
        "def plot_tricolor():\n",
        "\ttricolorarray = np.zeros((4096, 4096, 3))\n",
        "\n",
        "\tdata_a = img_as_ubyte(rescale01(np.log10(data), cmin = 1.2, cmax = 3.9))\n",
        "\tdata_b = img_as_ubyte(rescale01(np.log10(datb), cmin = 1.4, cmax = 3.0))\n",
        "\tdata_c = img_as_ubyte(rescale01(np.log10(datc), cmin = 0.8, cmax = 2.7))\n",
        "\n",
        "\ttricolorarray[..., 0] = data_c/np.max(data_c)\n",
        "\ttricolorarray[..., 1] = data_b/np.max(data_b)\n",
        "\ttricolorarray[..., 2] = data_a/np.max(data_a)\n",
        "\n",
        "\n",
        "\tfig, ax = plt.subplots(figsize = (10, 10))\n",
        "\n",
        "\tplt.imshow(tricolorarray, origin = 'lower')#, extent = )\n",
        "\tcs=plt.contour(xgrid,ygrid,slate,colors='white',linewidths=0.5)\n",
        "\tplt.savefig('tricolor.png')\n",
        "\tplt.close()\n",
        "\n",
        "def plot_mask(slate=slate):\n",
        "\tchs=np.where(iarr > 0)\n",
        "\tslate[chs]=1\n",
        "\tslate=np.array(slate,dtype=np.uint8)\n",
        "\tcont,heir=cv2.findContours(slate,cv2.RETR_TREE,cv2.CHAIN_APPROX_SIMPLE)\n",
        "\n",
        "\tcirc[:]=0\n",
        "\tr=(rs/dattoarc)\n",
        "\tw=np.where((xgrid-center[0])**2+(ygrid-center[1])**2 <= r**2)\n",
        "\tcirc[w]=1.0\n",
        "\n",
        "\tplt.figure(figsize=(10,10))\n",
        "\tplt.xlim(143,4014)\n",
        "\tplt.ylim(143,4014)\n",
        "\tplt.scatter(chs[1],chs[0],marker='s',s=0.0205,c='black',cmap='viridis',edgecolor='none',alpha=0.2)\n",
        "\tplt.gca().set_aspect('equal', adjustable='box')\n",
        "\tplt.axis('off')\n",
        "\tcs=plt.contour(xgrid,ygrid,slate,colors='black',linewidths=0.5)\n",
        "\tcs=plt.contour(xgrid,ygrid,circ,colors='black',linewidths=1.0)\n",
        "\n",
        "\tplt.savefig('CH_mask_'+hedb[\"DATE\"]+'.png',transparent=True)\n",
        "\t#plt.close()\n",
        "#====stores all CH properties in a text file=====\n",
        "\n",
        "plot_tricolor()\n",
        "plot_mask()\n",
        "\n",
        "#====EOF===="
      ],
      "metadata": {
        "colab": {
          "base_uri": "https://localhost:8080/",
          "height": 1000
        },
        "id": "OGhJ_fJT6j3t",
        "outputId": "c00d4c6e-bdbb-4ca3-e426-ad0c36a70112"
      },
      "execution_count": 62,
      "outputs": [
        {
          "output_type": "stream",
          "name": "stdout",
          "text": [
            "(array([ 582,  582,  582, ..., 3207, 3208, 3208]), array([1674, 1675, 1676, ..., 3069, 3067, 3068]))\n",
            "(array([2606, 2606, 2606, ..., 2687, 2688, 2688]), array([2408, 2409, 2410, ..., 2347, 2345, 2346]))\n",
            "(array([1611, 1611, 1611, ..., 1826, 1826, 1826]), array([2278, 2279, 2280, ..., 2332, 2333, 2334]))\n",
            "(array([1268, 1268, 1268, ..., 1551, 1551, 1551]), array([2994, 2995, 2996, ..., 3285, 3286, 3287]))\n",
            "(array([ 621,  621,  621, ..., 1790, 1791, 1791]), array([1463, 1464, 1465, ..., 1153, 1151, 1152]))\n",
            "(array([582, 582, 582, ..., 934, 935, 935]), array([1674, 1675, 1676, ..., 1729, 1727, 1728]))\n"
          ]
        },
        {
          "output_type": "stream",
          "name": "stderr",
          "text": [
            "<ipython-input-62-982be61b5376>:180: RuntimeWarning: divide by zero encountered in log10\n",
            "  data_a = img_as_ubyte(rescale01(np.log10(data), cmin = 1.2, cmax = 3.9))\n",
            "<ipython-input-62-982be61b5376>:181: RuntimeWarning: divide by zero encountered in log10\n",
            "  data_b = img_as_ubyte(rescale01(np.log10(datb), cmin = 1.4, cmax = 3.0))\n",
            "<ipython-input-62-982be61b5376>:182: RuntimeWarning: divide by zero encountered in log10\n",
            "  data_c = img_as_ubyte(rescale01(np.log10(datc), cmin = 0.8, cmax = 2.7))\n",
            "<ipython-input-62-982be61b5376>:210: UserWarning: No data for colormapping provided via 'c'. Parameters 'cmap' will be ignored\n",
            "  plt.scatter(chs[1],chs[0],marker='s',s=0.0205,c='black',cmap='viridis',edgecolor='none',alpha=0.2)\n"
          ]
        },
        {
          "output_type": "display_data",
          "data": {
            "text/plain": [
              "<Figure size 1000x1000 with 1 Axes>"
            ],
            "image/png": "[encoded data removed]"
          },
          "metadata": {}
        }
      ]
    }
  ]
}
